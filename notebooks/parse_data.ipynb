{
  "nbformat": 4,
  "nbformat_minor": 0,
  "metadata": {
    "kernelspec": {
      "name": "python3",
      "display_name": "Python 3"
    },
    "colab": {
      "name": "parse_data.ipynb",
      "provenance": []
    },
    "language_info": {
      "name": "python"
    }
  },
  "cells": [
    {
      "cell_type": "code",
      "metadata": {
        "collapsed": true,
        "id": "JQ3yjoGc5SEg"
      },
      "source": [
        "import os\n",
        "import pandas as pd\n",
        "from google_drive_downloader import GoogleDriveDownloader as gdd"
      ],
      "execution_count": 1,
      "outputs": []
    },
    {
      "cell_type": "code",
      "metadata": {
        "pycharm": {
          "name": "#%%\n"
        },
        "id": "OgveMwGD5SEi",
        "colab": {
          "base_uri": "https://localhost:8080/"
        },
        "outputId": "cc3b625f-1d5b-455e-9bc5-b3e6386cb583"
      },
      "source": [
        "## download training data from google drive\n",
        "gdd.download_file_from_google_drive(file_id='1nRDgiaeP8r6Mh2GsY6AUFZIwCmSoQWXB',\n",
        "                                    dest_path='./data.xlsx',\n",
        "                                    overwrite=True)"
      ],
      "execution_count": 2,
      "outputs": [
        {
          "output_type": "stream",
          "text": [
            "Downloading 1nRDgiaeP8r6Mh2GsY6AUFZIwCmSoQWXB into ./data.xlsx... Done.\n"
          ],
          "name": "stdout"
        }
      ]
    },
    {
      "cell_type": "code",
      "metadata": {
        "pycharm": {
          "name": "#%%\n"
        },
        "id": "ftayOrd75SEi"
      },
      "source": [
        "## loads excel\n",
        "xls = pd.ExcelFile('./data.xlsx')\n",
        "training_data = pd.read_excel(xls, '학습데이터')\n",
        "priority = pd.read_excel(xls, '우선순위')\n",
        "data_without_ground_truth = training_data.values[:, 2]"
      ],
      "execution_count": 3,
      "outputs": []
    },
    {
      "cell_type": "code",
      "metadata": {
        "pycharm": {
          "name": "#%%\n"
        },
        "id": "dAe7YCsO5SEj"
      },
      "source": [
        "# !pip install hunspell-ko\n",
        "\n",
        "# from hanspell import spell_checker\n",
        "\n",
        "import requests\n",
        "import json\n",
        "import sys\n",
        "import xml.etree.ElementTree as ET\n",
        "\n",
        "base_url = 'https://m.search.naver.com/p/csearch/ocontent/spellchecker.nhn'\n",
        "\n",
        "_agent = requests.Session()\n",
        "PY3 = sys.version_info[0] == 3\n",
        "\n",
        "\n",
        "def _remove_tags(text):\n",
        "    text = u'<content>{}</content>'.format(text).replace('<br>', '')\n",
        "    if not PY3:\n",
        "        text = text.encode('utf-8')\n",
        "\n",
        "    result = ''.join(ET.fromstring(text).itertext())\n",
        "\n",
        "    return result\n",
        "\n",
        "\n",
        "def check(text):\n",
        "\n",
        "    if isinstance(text, list):\n",
        "        print('yes')\n",
        "        result = []\n",
        "        for item in text:\n",
        "            checked = check(item)\n",
        "            result.append(checked)\n",
        "        return result\n",
        "\n",
        "    payload = {\n",
        "        '_callback': 'window.__jindo2_callback._spellingCheck_0',\n",
        "        'q': text\n",
        "    }\n",
        "\n",
        "    headers = {\n",
        "        'user-agent': 'https://github.com/michael960725',\n",
        "        'referer': 'https://naver.com/',\n",
        "    }\n",
        "\n",
        "    r = _agent.get(base_url, params=payload, headers=headers)\n",
        "    r = r.text[42:-2]\n",
        "\n",
        "    data = json.loads(r)\n",
        "    html = data['message']['result']['html']\n",
        "    return _remove_tags(html)\n",
        "\n",
        "# for i in data_without_ground_truth:\n",
        "#   # print(i)\n",
        "#   print(check(i))\n"
      ],
      "execution_count": 4,
      "outputs": []
    }
  ]
}