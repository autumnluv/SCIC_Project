{
 "nbformat": 4,
 "nbformat_minor": 0,
 "metadata": {
  "kernelspec": {
   "name": "pycharm-6269f1cd",
   "language": "python",
   "display_name": "PyCharm (SCIC_Project)"
  },
  "colab": {
   "name": "parse_data.ipynb",
   "provenance": []
  },
  "language_info": {
   "name": "python"
  }
 },
 "cells": [
  {
   "cell_type": "code",
   "metadata": {
    "collapsed": true,
    "id": "JQ3yjoGc5SEg"
   },
   "source": [
    "import pandas as pd"
   ],
   "execution_count": null,
   "outputs": []
  },
  {
   "cell_type": "code",
   "metadata": {
    "pycharm": {
     "name": "#%%\n"
    },
    "id": "OgveMwGD5SEi",
    "colab": {
     "base_uri": "https://localhost:8080/"
    },
    "outputId": "cc3b625f-1d5b-455e-9bc5-b3e6386cb583"
   },
   "source": [
    "# %%bash\n",
    "# git clone https://github.com/Jaehun-Kim22/SCIC_Project.git\n"
   ],
   "execution_count": null,
   "outputs": []
  },
  {
   "cell_type": "code",
   "metadata": {
    "pycharm": {
     "name": "#%%\n"
    },
    "id": "ftayOrd75SEi"
   },
   "source": [
    "## loads excel\n",
    "xls = pd.ExcelFile('../assets/data.xlsx')\n",
    "training_data = pd.read_excel(xls, '학습데이터')\n",
    "priority = pd.read_excel(xls, '우선순위')\n",
    "data_without_ground_truth = training_data.values[:, 2]"
   ],
   "execution_count": null,
   "outputs": []
  },
  {
   "cell_type": "code",
   "execution_count": null,
   "outputs": [],
   "source": [
    "# print(training_data, priority)\n",
    "# print(data_without_ground_truth)\n"
   ],
   "metadata": {
    "collapsed": false,
    "pycharm": {
     "name": "#%%\n"
    }
   }
  },
  {
   "cell_type": "code",
   "metadata": {
    "pycharm": {
     "name": "#%%\n"
    },
    "id": "dAe7YCsO5SEj"
   },
   "source": [
    "## loads excel\n",
    "# xls = pd.ExcelFile('SCIC_Project/assets/data.xlsx')\n",
    "# training_data = pd.read_excel(xls, '학습데이터')\n",
    "# priority = pd.read_excel(xls, '우선순위')\n",
    "# data_without_ground_truth = training_data.values[:, 2]\n",
    "# !pip install konlpy\n",
    "from konlpy.tag import *\n",
    "import copy\n",
    "import time\n",
    "kkma = Kkma()\n",
    "okt = Okt()\n",
    "kom = Komoran()\n",
    "\n",
    "\n",
    "def perform_spacing_Okt(text):\n",
    "  tagged = okt.pos(text)\n",
    "  corrected = \"\"\n",
    "  for i in tagged:\n",
    "      if i[1] in ('Josa', 'PreEomi', 'Eomi', 'Suffix', 'Punctuation', 'Unknown'):\n",
    "          corrected += i[0]\n",
    "      else:\n",
    "          corrected += \" \"+i[0]\n",
    "  if corrected[0] == \" \":\n",
    "      corrected = corrected[1:]\n",
    "  return corrected\n",
    "\n",
    "\n",
    "def perform_Kkma(text):\n",
    "  # temp_okt = perform_spacing_Okt(text)\n",
    "  # temp_kkma = kkma.sentences(temp_okt)\n",
    "  empt = []\n",
    "  pos_kkma = kkma.pos(text)\n",
    "  # print(pos_kkma)\n",
    "  for i in pos_kkma:\n",
    "      if i[1] == \"UN\":\n",
    "          for j in kkma.pos(i[0]):\n",
    "              # print(j)\n",
    "              empt.append(j)\n",
    "      else:\n",
    "          empt.append(i)\n",
    "  return empt\n",
    "\n",
    "\n",
    "s = time.time()\n",
    "training_data_copy_kkma = copy.deepcopy(training_data)\n",
    "column_added_kkma = []\n",
    "for text in training_data['발화']:\n",
    "    # print(text)\n",
    "    column_added_kkma.append(perform_Kkma(text))\n",
    "training_data_copy_kkma['Kkma'] = column_added_kkma\n",
    "\n",
    "print(training_data_copy_kkma.values[:, 10][:20])\n",
    "e = time.time()\n",
    "print(e - s)"
   ],
   "execution_count": null,
   "outputs": []
  }
 ]
}