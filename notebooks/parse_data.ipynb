{
  "nbformat": 4,
  "nbformat_minor": 0,
  "metadata": {
    "kernelspec": {
      "name": "pycharm-6269f1cd",
      "language": "python",
      "display_name": "PyCharm (SCIC_Project)"
    },
    "language_info": {
      "codemirror_mode": {
        "name": "ipython",
        "version": 2
      },
      "file_extension": ".py",
      "mimetype": "text/x-python",
      "name": "python",
      "nbconvert_exporter": "python",
      "pygments_lexer": "ipython2",
      "version": "2.7.6"
    },
    "colab": {
      "name": "parse_data.ipynb",
      "provenance": []
    }
  },
  "cells": [
    {
      "cell_type": "code",
      "metadata": {
        "collapsed": true,
        "id": "JQ3yjoGc5SEg"
      },
      "source": [
        "import os\n",
        "import pandas as pd"
      ],
      "execution_count": 4,
      "outputs": []
    },
    {
      "cell_type": "code",
      "metadata": {
        "pycharm": {
          "name": "#%%\n"
        },
        "id": "OgveMwGD5SEi",
        "outputId": "26387464-05f3-4669-eab8-cca32e0fc416",
        "colab": {
          "base_uri": "https://localhost:8080/"
        }
      },
      "source": [
        "%%bash\n",
        "git clone https://github.com/Jaehun-Kim22/SCIC_Project.git"
      ],
      "execution_count": 7,
      "outputs": [
        {
          "output_type": "stream",
          "text": [
            "assets\n",
            "README.md\n"
          ],
          "name": "stdout"
        },
        {
          "output_type": "stream",
          "text": [
            "fatal: destination path 'SCIC_Project' already exists and is not an empty directory.\n"
          ],
          "name": "stderr"
        }
      ]
    },
    {
      "cell_type": "code",
      "metadata": {
        "pycharm": {
          "name": "#%%\n"
        },
        "id": "ftayOrd75SEi"
      },
      "source": [
        "## loads excel\n",
        "xls = pd.ExcelFile('SCIC_Project/assets/data.xlsx')\n",
        "training_data = pd.read_excel(xls, '학습데이터')\n",
        "priority = pd.read_excel(xls, '우선순위')"
      ],
      "execution_count": 8,
      "outputs": []
    },
    {
      "cell_type": "code",
      "metadata": {
        "pycharm": {
          "name": "#%%\n"
        },
        "id": "dAe7YCsO5SEj",
        "outputId": "7c8ff30e-3e59-47ca-8f41-616303dbcedb",
        "colab": {
          "base_uri": "https://localhost:8080/"
        }
      },
      "source": [
        "print(training_data, priority)"
      ],
      "execution_count": 9,
      "outputs": [
        {
          "output_type": "stream",
          "text": [
            "       NO    NO2  ... 발화3의 우선순위 최종분류(우선순위 가장 높은것 선택)\n",
            "0       1   6438  ...       NaN       불만>고객서비스>상담시스템\n",
            "1       2   6850  ...       NaN       불만>고객서비스>상담시스템\n",
            "2       3   7294  ...       NaN       불만>고객서비스>상담시스템\n",
            "3       4   9484  ...       NaN       불만>고객서비스>상담시스템\n",
            "4       5  10350  ...       NaN       불만>고객서비스>상담시스템\n",
            "..    ...    ...  ...       ...                  ...\n",
            "995  9958    103  ...       NaN         칭찬>삼성카드>카드상품\n",
            "996  9961      2  ...       NaN           칭찬>삼성카드>혜택\n",
            "997  9962      4  ...       NaN           칭찬>삼성카드>혜택\n",
            "998  9963      5  ...       NaN           칭찬>삼성카드>혜택\n",
            "999  9964      7  ...       NaN           칭찬>삼성카드>혜택\n",
            "\n",
            "[1000 rows x 10 columns]     우선순위           의도명(유형)\n",
            "0      1      칭찬>고객서비스>상담원\n",
            "1      2    칭찬>고객서비스>상담시스템\n",
            "2      3          칭찬>고객서비스\n",
            "3      4      불만>고객서비스>상담원\n",
            "4      5    불만>고객서비스>상담시스템\n",
            "5      6          불만>고객서비스\n",
            "6      7        칭찬>삼성카드>혜택\n",
            "7      8    칭찬>삼성카드>할부금융상품\n",
            "8      9   칭찬>삼성카드>커뮤니티서비스\n",
            "9     10   칭찬>삼성카드>카드이용/결제\n",
            "10    11      칭찬>삼성카드>카드상품\n",
            "11    12      칭찬>삼성카드>청구입금\n",
            "12    13     칭찬>삼성카드>심사/한도\n",
            "13    14   칭찬>삼성카드>생활편의서비스\n",
            "14    15     칭찬>삼성카드>상담/채널\n",
            "15    16    칭찬>삼성카드>리스렌탈상품\n",
            "16    17    칭찬>삼성카드>라이프서비스\n",
            "17    18      칭찬>삼성카드>금융상품\n",
            "18    19    칭찬>삼성카드>고객정보관리\n",
            "19    20  칭찬>삼성카드>가맹점매출/승인\n",
            "20    21     칭찬>삼성카드>가맹점대금\n",
            "21    22     칭찬>삼성카드>가맹점계약\n",
            "22    23           칭찬>삼성카드\n",
            "23    24             칭찬>기타\n",
            "24    25        불만>삼성카드>혜택\n",
            "25    26    불만>삼성카드>할부금융상품\n",
            "26    27   불만>삼성카드>커뮤니티서비스\n",
            "27    28   불만>삼성카드>카드이용/결제\n",
            "28    29      불만>삼성카드>카드상품\n",
            "29    30      불만>삼성카드>청구입금\n",
            "30    31     불만>삼성카드>심사/한도\n",
            "31    32   불만>삼성카드>생활편의서비스\n",
            "32    33     불만>삼성카드>상담/채널\n",
            "33    34    불만>삼성카드>리스렌탈상품\n",
            "34    35    불만>삼성카드>라이프서비스\n",
            "35    36      불만>삼성카드>금융상품\n",
            "36    37    불만>삼성카드>고객정보관리\n",
            "37    38  불만>삼성카드>가맹점매출/승인\n",
            "38    39     불만>삼성카드>가맹점대금\n",
            "39    40     불만>삼성카드>가맹점계약\n",
            "40    41           불만>삼성카드\n",
            "41    42             불만>기타\n",
            "42    43                중립\n",
            "43    44                폐기\n"
          ],
          "name": "stdout"
        }
      ]
    },
    {
      "cell_type": "code",
      "metadata": {
        "pycharm": {
          "name": "#%%\n"
        },
        "id": "O5S9wVbt5SEj"
      },
      "source": [
        ""
      ],
      "execution_count": null,
      "outputs": []
    }
  ]
}