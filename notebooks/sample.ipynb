{
  "nbformat": 4,
  "nbformat_minor": 0,
  "metadata": {
    "kernelspec": {
      "display_name": "Python 3",
      "language": "python",
      "name": "python3"
    },
    "language_info": {
      "codemirror_mode": {
        "name": "ipython",
        "version": 2
      },
      "file_extension": ".py",
      "mimetype": "text/x-python",
      "name": "python",
      "nbconvert_exporter": "python",
      "pygments_lexer": "ipython2",
      "version": "2.7.6"
    },
    "colab": {
      "name": "sample.ipynb",
      "provenance": []
    }
  },
  "cells": [
    {
      "cell_type": "code",
      "metadata": {
        "collapsed": true,
        "id": "LT81aFj_MDJl",
        "outputId": "ea401fa3-3ebe-4abd-e62b-5a7c7d67bb18"
      },
      "source": [
        "print('Hello world!')\n",
        "print(\"Hi, Jaehun\")\n",
        "print('try this out')"
      ],
      "execution_count": null,
      "outputs": [
        {
          "output_type": "stream",
          "text": [
            "Hello world!\n",
            "Hi, Jaehun\n"
          ],
          "name": "stdout"
        }
      ]
    }
  ]
}