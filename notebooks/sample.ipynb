{
 "nbformat": 4,
 "nbformat_minor": 0,
 "metadata": {
  "kernelspec": {
   "display_name": "Python 3",
   "language": "python",
   "name": "python3"
  },
  "language_info": {
   "codemirror_mode": {
    "name": "ipython",
    "version": 2
   },
   "file_extension": ".py",
   "mimetype": "text/x-python",
   "name": "python",
   "nbconvert_exporter": "python",
   "pygments_lexer": "ipython2",
   "version": "2.7.6"
  },
  "colab": {
   "name": "sample.ipynb",
   "provenance": []
  }
 },
 "cells": [
  {
   "cell_type": "code",
   "metadata": {
    "collapsed": true,
    "id": "LT81aFj_MDJl",
    "outputId": "9fde711d-fcd9-4e47-c143-6c956995a011",
    "colab": {
     "base_uri": "https://localhost:8080/"
    }
   },
   "source": [
    "print('Hello world!')\n",
    "print(\"Hi, Jaehun\")\n",
    "print('try this out')\n",
    "import os\n",
    "import random\n",
    "a = random.randint(0, 100)\n",
    "print(a)"
   ],
   "execution_count": 3,
   "outputs": [
    {
     "name": "stdout",
     "output_type": "stream",
     "text": [
      "Hello world!\n",
      "Hi, Jaehun\n",
      "try this out\n",
      "96\n"
     ]
    }
   ]
  },
  {
   "cell_type": "code",
   "metadata": {
    "id": "CtPWSaYQOUFt"
   },
   "source": [
    ""
   ],
   "execution_count": null,
   "outputs": []
  }
 ]
}