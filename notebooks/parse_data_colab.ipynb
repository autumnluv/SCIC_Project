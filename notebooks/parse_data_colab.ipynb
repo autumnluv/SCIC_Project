{
  "nbformat": 4,
  "nbformat_minor": 0,
  "metadata": {
    "kernelspec": {
      "display_name": "Python 3",
      "language": "python",
      "name": "python3"
    },
    "language_info": {
      "codemirror_mode": {
        "name": "ipython",
        "version": 2
      },
      "file_extension": ".py",
      "mimetype": "text/x-python",
      "name": "python",
      "nbconvert_exporter": "python",
      "pygments_lexer": "ipython2",
      "version": "2.7.6"
    },
    "colab": {
      "name": "parse_data_colab.ipynb",
      "provenance": []
    }
  },
  "cells": [
    {
      "cell_type": "code",
      "metadata": {
        "pycharm": {
          "name": "#%%\n"
        },
        "id": "HkBWR3JoSKTp"
      },
      "source": [
        "import pandas as pd\n",
        "import os\n"
      ],
      "execution_count": null,
      "outputs": []
    },
    {
      "cell_type": "code",
      "metadata": {
        "pycharm": {
          "name": "#%%\n"
        },
        "id": "ISm0J3VDSKTq"
      },
      "source": [
        "data_path = './assets/data.xlsx'\n",
        "if not os.path.isfile(data_path):\n",
        "  from google_drive_downloader import GoogleDriveDownloader as gdd\n",
        "\n",
        "  data_path = './data.xlsx'\n",
        "  gdd.download_file_from_google_drive(file_id='1psRf7Nyg_iZPX5fkGq19RGkr6M08jKAd',\n",
        "                                      dest_path=data_path,\n",
        "                                      overwrite=True)"
      ],
      "execution_count": null,
      "outputs": []
    },
    {
      "cell_type": "code",
      "metadata": {
        "pycharm": {
          "name": "#%%\n"
        },
        "id": "HfwJPuwOSKTq"
      },
      "source": [
        "## loads excel\n",
        "xls = pd.ExcelFile(data_path)\n",
        "training_data = pd.read_excel(xls, '학습데이터')\n",
        "priority = pd.read_excel(xls, '우선순위')\n",
        "data_without_ground_truth = training_data.values[:, 2]\n",
        "!pip install konlpy"
      ],
      "execution_count": null,
      "outputs": []
    },
    {
      "cell_type": "code",
      "metadata": {
        "pycharm": {
          "name": "#%%\n"
        },
        "id": "zy2jg8sASKTq"
      },
      "source": [
        "## Kkma sentence\n",
        "from konlpy.tag import *\n",
        "import copy\n",
        "import time\n",
        "kkma = Kkma()\n",
        "okt = Okt()\n",
        "kom = Komoran()\n",
        "\n",
        "\n",
        "def perform_spacing_Okt(text):\n",
        "  tagged = okt.pos(text)\n",
        "  corrected = \"\"\n",
        "  for i in tagged:\n",
        "      if i[1] in ('Josa', 'PreEomi', 'Eomi', 'Suffix', 'Punctuation', 'Unknown'):\n",
        "          corrected += i[0]\n",
        "      else:\n",
        "          corrected += \" \"+i[0]\n",
        "  if corrected[0] == \" \":\n",
        "      corrected = corrected[1:]\n",
        "  return corrected\n",
        "\n",
        "\n",
        "def perform_Kkma(text):\n",
        "  # temp_okt = perform_spacing_Okt(text)\n",
        "  # temp_kkma = kkma.sentences(temp_okt)\n",
        "  empt = []\n",
        "  pos_kkma = kkma.pos(text)\n",
        "  # print(pos_kkma)\n",
        "  for i in pos_kkma:\n",
        "      if i[1] == \"UN\":\n",
        "          for j in kkma.pos(i[0]):\n",
        "              # print(j)\n",
        "              empt.append(j)\n",
        "      else:\n",
        "          empt.append(i)\n",
        "  return empt\n",
        "\n",
        "\n",
        "s = time.time()\n",
        "training_data_copy_kkma = copy.deepcopy(training_data)\n",
        "column_added_kkma = []\n",
        "for text in training_data['발화']:\n",
        "    # print(text)\n",
        "    column_added_kkma.append(perform_Kkma(text))\n",
        "training_data_copy_kkma['Kkma'] = column_added_kkma\n",
        "\n",
        "print(training_data_copy_kkma.values[:, 10][:20])\n",
        "e = time.time()\n",
        "print(e - s)"
      ],
      "execution_count": null,
      "outputs": []
    },
    {
      "cell_type": "code",
      "metadata": {
        "id": "qoy8WbuCU8WV"
      },
      "source": [
        ""
      ],
      "execution_count": null,
      "outputs": []
    }
  ]
}