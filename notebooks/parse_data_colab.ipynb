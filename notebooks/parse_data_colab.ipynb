{
  "nbformat": 4,
  "nbformat_minor": 0,
  "metadata": {
    "kernelspec": {
      "display_name": "Python 3",
      "language": "python",
      "name": "python3"
    },
    "language_info": {
      "codemirror_mode": {
        "name": "ipython",
        "version": 2
      },
      "file_extension": ".py",
      "mimetype": "text/x-python",
      "name": "python",
      "nbconvert_exporter": "python",
      "pygments_lexer": "ipython2",
      "version": "2.7.6"
    },
    "colab": {
      "name": "parse_data_colab.ipynb",
      "provenance": []
    }
  },
  "cells": [
    {
      "cell_type": "code",
      "metadata": {
        "pycharm": {
          "name": "#%%\n"
        },
        "id": "HkBWR3JoSKTp"
      },
      "source": [
        "import pandas as pd\n",
        "import shutil\n",
        "import os\n"
      ],
      "execution_count": null,
      "outputs": []
    },
    {
      "cell_type": "code",
      "metadata": {
        "pycharm": {
          "name": "#%%\n"
        },
        "id": "ISm0J3VDSKTq"
      },
      "source": [
        "data_path = './assets/data.xlsx'\n",
        "if not os.path.isfile(data_path):\n",
        "  from google_drive_downloader import GoogleDriveDownloader as gdd\n",
        "\n",
        "  data_path = './data.xlsx'\n",
        "  gdd.download_file_from_google_drive(file_id='1psRf7Nyg_iZPX5fkGq19RGkr6M08jKAd',\n",
        "                                      dest_path=data_path,\n",
        "                                      overwrite=True)"
      ],
      "execution_count": null,
      "outputs": []
    },
    {
      "cell_type": "code",
      "metadata": {
        "pycharm": {
          "name": "#%%\n"
        },
        "id": "HfwJPuwOSKTq"
      },
      "source": [
        "## loads excel\n",
        "xls = pd.ExcelFile(data_path)\n",
        "training_data = pd.read_excel(xls, '학습데이터')\n",
        "priority = pd.read_excel(xls, '우선순위')\n",
        "data_without_ground_truth = training_data.values[:, 2]\n",
        "!pip install konlpy"
      ],
      "execution_count": null,
      "outputs": []
    },
    {
      "cell_type": "code",
      "metadata": {
        "pycharm": {
          "name": "#%%\n"
        },
        "id": "zy2jg8sASKTq"
      },
      "source": [
        "## Kkma sentence\n",
        "from konlpy.tag import Kkma\n",
        "import copy\n",
        "import time\n",
        "kkma = Kkma()\n",
        "\n",
        "\n",
        "def perform_Kkma(text):\n",
        "  temp_kkma = kkma.sentences(text)\n",
        "  if [text] != temp_kkma:\n",
        "    new_string_to_add = ''\n",
        "    new_string_to_add += ' '.join(temp_kkma)\n",
        "    return new_string_to_add\n",
        "  else:\n",
        "    return text\n",
        "\n",
        "\n",
        "s = time.time()\n",
        "\n",
        "training_data_copy_kkma = copy.deepcopy(training_data)\n",
        "\n",
        "cnt = 0\n",
        "column_added_kkma = []\n",
        "for text in training_data['발화']:\n",
        "  column_added_kkma.append(perform_Kkma(text))\n",
        "  cnt += 1\n",
        "training_data_copy_kkma['Kkma'] = column_added_kkma\n",
        "\n",
        "print(training_data.values[:, 2][:20])\n",
        "print(training_data_copy_kkma.values[:, 10][:20])\n",
        "e = time.time()\n",
        "\n",
        "print(e - s)"
      ],
      "execution_count": null,
      "outputs": []
    },
    {
      "cell_type": "code",
      "metadata": {
        "id": "CyGMSumVZbQf"
      },
      "source": [
        "!pip install fasttext"
      ],
      "execution_count": null,
      "outputs": []
    },
    {
      "cell_type": "code",
      "metadata": {
        "id": "evJxweT9aM3x"
      },
      "source": [
        "import fasttext\n",
        "help(fasttext.FastText)"
      ],
      "execution_count": null,
      "outputs": []
    },
    {
      "cell_type": "code",
      "metadata": {
        "id": "zTNu-rQkaStM"
      },
      "source": [
        "!wget https://dl.fbaipublicfiles.com/fasttext/data/cooking.stackexchange.tar.gz && tar xvzf cooking.stackexchange.tar.gz"
      ],
      "execution_count": null,
      "outputs": []
    },
    {
      "cell_type": "code",
      "metadata": {
        "id": "dDE2VMveahxB"
      },
      "source": [
        "!head cooking.stackexchange.txt"
      ],
      "execution_count": null,
      "outputs": []
    },
    {
      "cell_type": "code",
      "metadata": {
        "id": "O9axOO8jalpM"
      },
      "source": [
        "!wc cooking.stackexchange.txt"
      ],
      "execution_count": null,
      "outputs": []
    },
    {
      "cell_type": "code",
      "metadata": {
        "id": "yC17D_UtarXG"
      },
      "source": [
        "!head -n 12404 cooking.stackexchange.txt > cooking.train"
      ],
      "execution_count": null,
      "outputs": []
    },
    {
      "cell_type": "code",
      "metadata": {
        "id": "uHl_DINSauND"
      },
      "source": [
        "!tail -n 3000 cooking.stackexchange.txt > cooking.valid"
      ],
      "execution_count": null,
      "outputs": []
    },
    {
      "cell_type": "code",
      "metadata": {
        "id": "ZE070vNxawu4"
      },
      "source": [
        "model = fasttext.train_supervised(input=\"cooking.train\")"
      ],
      "execution_count": null,
      "outputs": []
    },
    {
      "cell_type": "code",
      "metadata": {
        "id": "KGR5XARYaz46"
      },
      "source": [
        "model.predict(\"Which baking dish is best to bake a banana bread ?\")"
      ],
      "execution_count": null,
      "outputs": []
    },
    {
      "cell_type": "code",
      "metadata": {
        "id": "NwUdb5r5bAZX"
      },
      "source": [
        "model.predict(\"Why not put knives in the dishwasher?\")"
      ],
      "execution_count": null,
      "outputs": []
    },
    {
      "cell_type": "code",
      "metadata": {
        "id": "coDzyeSQbD40"
      },
      "source": [
        "model.test(\"cooking.valid\")"
      ],
      "execution_count": null,
      "outputs": []
    },
    {
      "cell_type": "code",
      "metadata": {
        "id": "0ayFDxwwbGGs"
      },
      "source": [
        "model.test(\"cooking.valid\", k=5)"
      ],
      "execution_count": null,
      "outputs": []
    },
    {
      "cell_type": "code",
      "metadata": {
        "id": "hOpuQEhXbJh3"
      },
      "source": [
        "model.predict(\"Why not put knives in the dishwasher?\", k=5)"
      ],
      "execution_count": null,
      "outputs": []
    },
    {
      "cell_type": "code",
      "metadata": {
        "id": "wBuq9S4VbMUm"
      },
      "source": [
        "with open('./cooking.stackexchange.txt', 'r') as f:\n",
        "  lines = f.readlines()\n",
        "lines"
      ],
      "execution_count": null,
      "outputs": []
    },
    {
      "cell_type": "code",
      "metadata": {
        "id": "Ojv8qTQWbxyS"
      },
      "source": [
        "len(lines)"
      ],
      "execution_count": null,
      "outputs": []
    },
    {
      "cell_type": "code",
      "metadata": {
        "id": "FI5vkl8Bb3FK"
      },
      "source": [
        ""
      ],
      "execution_count": null,
      "outputs": []
    }
  ]
}