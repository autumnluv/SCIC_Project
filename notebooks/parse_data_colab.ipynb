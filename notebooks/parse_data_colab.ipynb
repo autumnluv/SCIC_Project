{
 "nbformat": 4,
 "nbformat_minor": 0,
 "metadata": {
  "kernelspec": {
   "display_name": "Python 3",
   "language": "python",
   "name": "python3"
  },
  "language_info": {
   "codemirror_mode": {
    "name": "ipython",
    "version": 2
   },
   "file_extension": ".py",
   "mimetype": "text/x-python",
   "name": "python",
   "nbconvert_exporter": "python",
   "pygments_lexer": "ipython2",
   "version": "2.7.6"
  },
  "colab": {
   "name": "parse_data_colab.ipynb",
   "provenance": []
  }
 },
 "cells": [
  {
   "cell_type": "code",
   "metadata": {
    "pycharm": {
     "name": "#%%\n"
    },
    "id": "HkBWR3JoSKTp"
   },
   "source": [
    "import pandas as pd\n",
    "import os\n"
   ],
   "execution_count": null,
   "outputs": []
  },
  {
   "cell_type": "code",
   "metadata": {
    "pycharm": {
     "name": "#%%\n"
    },
    "id": "ISm0J3VDSKTq"
   },
   "source": [
    "data_path = './assets/data.xlsx'\n",
    "if not os.path.isfile(data_path):\n",
    "  from google_drive_downloader import GoogleDriveDownloader as gdd\n",
    "\n",
    "  data_path = './data.xlsx'\n",
    "  gdd.download_file_from_google_drive(file_id='1psRf7Nyg_iZPX5fkGq19RGkr6M08jKAd',\n",
    "                                      dest_path=data_path,\n",
    "                                      overwrite=True)"
   ],
   "execution_count": null,
   "outputs": []
  },
  {
   "cell_type": "code",
   "metadata": {
    "pycharm": {
     "name": "#%%\n"
    },
    "id": "HfwJPuwOSKTq"
   },
   "source": [
    "## loads excel\n",
    "xls = pd.ExcelFile(data_path)\n",
    "training_data = pd.read_excel(xls, '학습데이터')\n",
    "priority = pd.read_excel(xls, '우선순위')\n",
    "data_without_ground_truth = training_data.values[:, 2]\n",
    "!pip install konlpy"
   ],
   "execution_count": null,
   "outputs": []
  },
  {
   "cell_type": "code",
   "metadata": {
    "pycharm": {
     "name": "#%%\n"
    },
    "id": "zy2jg8sASKTq"
   },
   "source": [
    "## Kkma sentence\n",
    "from konlpy.tag import Kkma\n",
    "import copy\n",
    "import time\n",
    "kkma = Kkma()\n",
    "\n",
    "\n",
    "def perform_Kkma(text):\n",
    "  temp_kkma = kkma.sentences(text)\n",
    "  if [text] != temp_kkma:\n",
    "    new_string_to_add = ''\n",
    "    new_string_to_add += ' '.join(temp_kkma)\n",
    "    return new_string_to_add\n",
    "  else:\n",
    "    return text\n",
    "\n",
    "\n",
    "s = time.time()\n",
    "\n",
    "training_data_copy_kkma = copy.deepcopy(training_data)\n",
    "\n",
    "cnt = 0\n",
    "column_added_kkma = []\n",
    "for text in training_data['발화']:\n",
    "  column_added_kkma.append(perform_Kkma(text))\n",
    "  cnt += 1\n",
    "training_data_copy_kkma['Kkma'] = column_added_kkma\n",
    "\n",
    "print(training_data.values[:, 2][:20])\n",
    "print(training_data_copy_kkma.values[:, 10][:20])\n",
    "e = time.time()\n",
    "\n",
    "print(e - s)"
   ],
   "execution_count": null,
   "outputs": []
  },
  {
   "cell_type": "code",
   "metadata": {
    "id": "qoy8WbuCU8WV"
   },
   "source": [
    ""
   ],
   "execution_count": null,
   "outputs": []
  }
 ]
}