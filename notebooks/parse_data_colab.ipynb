{
 "nbformat": 4,
 "nbformat_minor": 0,
 "metadata": {
  "kernelspec": {
   "display_name": "Python 3",
   "language": "python",
   "name": "python3"
  },
  "language_info": {
   "codemirror_mode": {
    "name": "ipython",
    "version": 2
   },
   "file_extension": ".py",
   "mimetype": "text/x-python",
   "name": "python",
   "nbconvert_exporter": "python",
   "pygments_lexer": "ipython2",
   "version": "2.7.6"
  },
  "colab": {
   "name": "parse_data_colab.ipynb",
   "provenance": []
  }
 },
 "cells": [
  {
   "cell_type": "code",
   "metadata": {
    "pycharm": {
     "name": "#%%\n"
    },
    "id": "4K55hA_qKlMp"
   },
   "source": [
    "import pandas as pd"
   ],
   "execution_count": 5,
   "outputs": []
  },
  {
   "cell_type": "code",
   "metadata": {
    "pycharm": {
     "name": "#%%\n"
    },
    "id": "zAvvubliKlMr",
    "outputId": "03126551-2b5a-4891-8885-1dc0ea761ee7",
    "colab": {
     "base_uri": "https://localhost:8080/"
    }
   },
   "source": [
    "%%bash\n",
    "git clone https://github.com/Jaehun-Kim22/SCIC_Project.git"
   ],
   "execution_count": 6,
   "outputs": [
    {
     "output_type": "stream",
     "text": [
      "fatal: destination path 'SCIC_Project' already exists and is not an empty directory.\n"
     ],
     "name": "stderr"
    }
   ]
  },
  {
   "cell_type": "code",
   "metadata": {
    "pycharm": {
     "name": "#%%\n"
    },
    "id": "1M406QAEKlMr",
    "outputId": "bf10a09c-84e7-42c9-fc57-555d94ffbbd2",
    "colab": {
     "base_uri": "https://localhost:8080/"
    }
   },
   "source": [
    "## loads excel\n",
    "xls = pd.ExcelFile('SCIC_Project/assets/data.xlsx')\n",
    "training_data = pd.read_excel(xls, '학습데이터')\n",
    "priority = pd.read_excel(xls, '우선순위')\n",
    "data_without_ground_truth = training_data.values[:, 2]\n",
    "!pip install konlpy"
   ],
   "execution_count": 7,
   "outputs": [
    {
     "output_type": "stream",
     "text": [
      "Requirement already satisfied: konlpy in /usr/local/lib/python3.7/dist-packages (0.5.2)\n",
      "Requirement already satisfied: lxml>=4.1.0 in /usr/local/lib/python3.7/dist-packages (from konlpy) (4.2.6)\n",
      "Requirement already satisfied: tweepy>=3.7.0 in /usr/local/lib/python3.7/dist-packages (from konlpy) (3.10.0)\n",
      "Requirement already satisfied: colorama in /usr/local/lib/python3.7/dist-packages (from konlpy) (0.4.4)\n",
      "Requirement already satisfied: numpy>=1.6 in /usr/local/lib/python3.7/dist-packages (from konlpy) (1.19.5)\n",
      "Requirement already satisfied: JPype1>=0.7.0 in /usr/local/lib/python3.7/dist-packages (from konlpy) (1.3.0)\n",
      "Requirement already satisfied: beautifulsoup4==4.6.0 in /usr/local/lib/python3.7/dist-packages (from konlpy) (4.6.0)\n",
      "Requirement already satisfied: six>=1.10.0 in /usr/local/lib/python3.7/dist-packages (from tweepy>=3.7.0->konlpy) (1.15.0)\n",
      "Requirement already satisfied: requests[socks]>=2.11.1 in /usr/local/lib/python3.7/dist-packages (from tweepy>=3.7.0->konlpy) (2.23.0)\n",
      "Requirement already satisfied: requests-oauthlib>=0.7.0 in /usr/local/lib/python3.7/dist-packages (from tweepy>=3.7.0->konlpy) (1.3.0)\n",
      "Requirement already satisfied: typing-extensions; python_version < \"3.8\" in /usr/local/lib/python3.7/dist-packages (from JPype1>=0.7.0->konlpy) (3.7.4.3)\n",
      "Requirement already satisfied: urllib3!=1.25.0,!=1.25.1,<1.26,>=1.21.1 in /usr/local/lib/python3.7/dist-packages (from requests[socks]>=2.11.1->tweepy>=3.7.0->konlpy) (1.24.3)\n",
      "Requirement already satisfied: certifi>=2017.4.17 in /usr/local/lib/python3.7/dist-packages (from requests[socks]>=2.11.1->tweepy>=3.7.0->konlpy) (2021.5.30)\n",
      "Requirement already satisfied: chardet<4,>=3.0.2 in /usr/local/lib/python3.7/dist-packages (from requests[socks]>=2.11.1->tweepy>=3.7.0->konlpy) (3.0.4)\n",
      "Requirement already satisfied: idna<3,>=2.5 in /usr/local/lib/python3.7/dist-packages (from requests[socks]>=2.11.1->tweepy>=3.7.0->konlpy) (2.10)\n",
      "Requirement already satisfied: PySocks!=1.5.7,>=1.5.6; extra == \"socks\" in /usr/local/lib/python3.7/dist-packages (from requests[socks]>=2.11.1->tweepy>=3.7.0->konlpy) (1.7.1)\n",
      "Requirement already satisfied: oauthlib>=3.0.0 in /usr/local/lib/python3.7/dist-packages (from requests-oauthlib>=0.7.0->tweepy>=3.7.0->konlpy) (3.1.1)\n"
     ],
     "name": "stdout"
    }
   ]
  },
  {
   "cell_type": "code",
   "metadata": {
    "pycharm": {
     "name": "#%%\n"
    },
    "id": "deUt93TCKlMs",
    "outputId": "106334e4-1cf0-4b18-a5b2-0f88c845b49c",
    "colab": {
     "base_uri": "https://localhost:8080/"
    }
   },
   "source": [
    "## Kkma sentence\n",
    "from konlpy.tag import Kkma\n",
    "import copy\n",
    "import time\n",
    "kkma = Kkma()\n",
    "\n",
    "\n",
    "def perform_Kkma(text):\n",
    "  temp_kkma = kkma.sentences(text)\n",
    "  if [text] != temp_kkma:\n",
    "    new_string_to_add = ''\n",
    "    new_string_to_add += ' '.join(temp_kkma)\n",
    "    return new_string_to_add\n",
    "  else:\n",
    "    return text\n",
    "\n",
    "\n",
    "s = time.time()\n",
    "\n",
    "training_data_copy_kkma = copy.deepcopy(training_data)\n",
    "\n",
    "cnt = 0\n",
    "column_added_kkma = []\n",
    "for text in training_data['발화']:\n",
    "  column_added_kkma.append(perform_Kkma(text))\n",
    "  cnt += 1\n",
    "training_data_copy_kkma['Kkma'] = column_added_kkma\n",
    "\n",
    "print(training_data.values[:, 2][:20])\n",
    "print(training_data_copy_kkma.values[:, 10][:20])\n",
    "e = time.time()\n",
    "\n",
    "print(e - s)"
   ],
   "execution_count": 8,
   "outputs": [
    {
     "output_type": "stream",
     "text": [
      "['상담직원과 빠른연결했슴좋겠어요' '안기다리고. 빨리상담되었음좋겠다' '너무 오래기다리고 상담이 늦어져요'\n",
      " '상담직원과  통화가  매우  힘들다' '상담받으려면오래기다리는게불편함' '상담하려면 많이기다려야하는게 불편합니다.'\n",
      " '상담원이통화중이라많이기다려야해요' '상담직원과의연결이 빠르게연결되면촣겠습니다' 'ars상담직원넘많이기다려야하는불편해요'\n",
      " '상담원 통화가너믜힘듬' '상담원과의 연결이빨리되었으면감사힘니다' '상담원이 영결이많이힘이듬'\n",
      " '5번질문에 대한 답변은 상담직원 연결되기까지 기다리는것말곤없는듯'\n",
      " '상담을 하려면 좀 많이기다려야 상담사분이 나오셔서 그게좀 불편하네요' 'Talk 상담이 다시 생겼으면..'\n",
      " '상담하려하는  기다리는시간    너무길다' '상담직원과 빠른속도로  연결이되길 원합니다' '상담직원과 빠른연결부탁드립니다'\n",
      " '상담직원과통화하기가힘들다' '상담한번받을려면 보통5분이상대기해야실질상담은2분미만인데.']\n",
      "['상담 직원과 빠른연결했슴좋겠어요' '안 기다리고. 빨리 상담되었음 좋겠다' '너무 오래 기다리고 상담이 늦어져요'\n",
      " '상담 직원과 통화가 매우 힘들다' '상담 받으려면 오래 기다리는 게 불편함' '상담하려면 많이 기다려야 하는 게 불편합니다.'\n",
      " '상담원이 통화 중이라 많이 기다려야 해요' '상담 직원 과의 연결이 빠르게 연결되면 촣겠습니다'\n",
      " 'ars 상담 직원 넘 많이 기다려야 하는 불편해요' '상담원 통화가 너 믜 힘 듬'\n",
      " '상담원과의 연결이 빨리 되었으면 감사 힘니다' '상담원이 영결이 많이 힘이 듬'\n",
      " '5번 질문에 대한 답변은 상담 직원 연결되기까지 기다리는 것 말곤 없는 듯'\n",
      " '상담을 하려면 좀 많이 기다려야 상담 사분이 나오셔서 그게 좀 불편하네요' 'Talk 상담이 다시 생겼으면..'\n",
      " '상담하려 하는 기다리는 시간 너무 길다' '상담 직원과 빠른 속도로 연결이 되길 원합니다' '상담 직원과 빠른 연결 부탁드립니다'\n",
      " '상담 직원과 통화하기가 힘들다' '상담한 번받 을려 면 보통 5분 이상 대기해야 실질상담은 2분 미만인데.']\n",
      "16.539961576461792\n"
     ],
     "name": "stdout"
    }
   ]
  }
 ]
}