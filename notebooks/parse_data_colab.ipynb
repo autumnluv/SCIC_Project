{
 "cells": [
  {
   "cell_type": "code",
   "execution_count": null,
   "outputs": [],
   "source": [
    "import pandas as pd"
   ],
   "metadata": {
    "collapsed": false,
    "pycharm": {
     "name": "#%%\n"
    }
   }
  },
  {
   "cell_type": "code",
   "execution_count": null,
   "outputs": [],
   "source": [
    "%%bash\n",
    "git clone https://github.com/Jaehun-Kim22/SCIC_Project.git"
   ],
   "metadata": {
    "collapsed": false,
    "pycharm": {
     "name": "#%%\n"
    }
   }
  },
  {
   "cell_type": "code",
   "execution_count": null,
   "outputs": [],
   "source": [
    "## loads excel\n",
    "xls = pd.ExcelFile('SCIC_Project/assets/data.xlsx')\n",
    "training_data = pd.read_excel(xls, '학습데이터')\n",
    "priority = pd.read_excel(xls, '우선순위')\n",
    "data_without_ground_truth = training_data.values[:, 2]\n",
    "!pip install konlpy"
   ],
   "metadata": {
    "collapsed": false,
    "pycharm": {
     "name": "#%%\n"
    }
   }
  },
  {
   "cell_type": "code",
   "execution_count": null,
   "outputs": [],
   "source": [
    "## Kkma sentence\n",
    "from konlpy.tag import Kkma\n",
    "import copy\n",
    "import time\n",
    "kkma = Kkma()\n",
    "\n",
    "\n",
    "def perform_Kkma(text):\n",
    "  temp_kkma = kkma.sentences(text)\n",
    "  if [text] != temp_kkma:\n",
    "    new_string_to_add = ''\n",
    "    new_string_to_add += ' '.join(temp_kkma)\n",
    "    return new_string_to_add\n",
    "  else:\n",
    "    return text\n",
    "\n",
    "\n",
    "s = time.time()\n",
    "\n",
    "training_data_copy_kkma = copy.deepcopy(training_data)\n",
    "\n",
    "cnt = 0\n",
    "column_added_kkma = []\n",
    "for text in training_data['발화']:\n",
    "  column_added_kkma.append(perform_Kkma(text))\n",
    "  cnt += 1\n",
    "training_data_copy_kkma['Kkma'] = column_added_kkma\n",
    "\n",
    "print(training_data.values[:, 2][:20])\n",
    "print(training_data_copy_kkma.values[:, 10][:20])\n",
    "e = time.time()\n",
    "\n",
    "print(e - s)"
   ],
   "metadata": {
    "collapsed": false,
    "pycharm": {
     "name": "#%%\n"
    }
   }
  }
 ],
 "metadata": {
  "kernelspec": {
   "display_name": "Python 3",
   "language": "python",
   "name": "python3"
  },
  "language_info": {
   "codemirror_mode": {
    "name": "ipython",
    "version": 2
   },
   "file_extension": ".py",
   "mimetype": "text/x-python",
   "name": "python",
   "nbconvert_exporter": "python",
   "pygments_lexer": "ipython2",
   "version": "2.7.6"
  }
 },
 "nbformat": 4,
 "nbformat_minor": 0
}